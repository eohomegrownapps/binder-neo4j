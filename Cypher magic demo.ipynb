{
 "cells": [
  {
   "cell_type": "markdown",
   "metadata": {},
   "source": [
    "## Simple IPython Magic Demo\n",
    "\n",
    "\n",
    "Load the magic with:\n",
    "\n",
    "`%load_ext cypher_magic`\n",
    "\n",
    "The magic allows you to run Cypher commands against the connected database using default credentials (the default password is set to `neo4jbinder`). You can change the password with the `-p`/`--password` variable; the `-q` flag suppresses the cell output.\n",
    "\n",
    "```\n",
    "%cypher -r\n",
    "%cypher -q -p neo4jbinder\n",
    "```\n",
    "\n",
    "Call as line magic `%cypher` or block magic: `%%cypher`\n",
    "\n",
    "The line magic is perhaps most useful when called with a query passed via a variable. For example:\n",
    "\n",
    "```\n",
    "q='MATCH (p:Person) RETURN p.name AS name'\n",
    "%cypher -v q\n",
    "```\n",
    "\n",
    "the magic will return a `pandas` dataframe by default. Other return formats, set using the `-o`/`--output` parameter, include `table` and `matrix` (the latter requires `sympy` to be installed).\n"
   ]
  },
  {
   "cell_type": "code",
   "execution_count": null,
   "metadata": {},
   "outputs": [],
   "source": [
    "%load_ext cypher_magic"
   ]
  },
  {
   "cell_type": "code",
   "execution_count": null,
   "metadata": {},
   "outputs": [],
   "source": [
    "%cypher -r\n",
    "%cypher -q -p neo4jbinder"
   ]
  },
  {
   "cell_type": "code",
   "execution_count": null,
   "metadata": {},
   "outputs": [],
   "source": [
    "%%cypher -p neo4jbinder\n",
    "CREATE (c:Person {name:\"Helen\"}) RETURN c"
   ]
  },
  {
   "cell_type": "code",
   "execution_count": null,
   "metadata": {},
   "outputs": [],
   "source": [
    "%%cypher -o matrix\n",
    "MATCH (p:Person) RETURN p.name AS name"
   ]
  },
  {
   "cell_type": "code",
   "execution_count": null,
   "metadata": {},
   "outputs": [],
   "source": [
    "q='MATCH (p:Person) RETURN p.name AS name'\n",
    "%cypher -v q"
   ]
  },
  {
   "cell_type": "code",
   "execution_count": null,
   "metadata": {},
   "outputs": [],
   "source": [
    "%%cypher -o matrix\n",
    "CREATE (c:Person {name:\"Matt\"}) RETURN c\n",
    "MATCH (p:Person) RETURN p.name AS name"
   ]
  }
 ],
 "metadata": {
  "kernelspec": {
   "display_name": "Python 3",
   "language": "python",
   "name": "python3"
  },
  "language_info": {
   "codemirror_mode": {
    "name": "ipython",
    "version": 3
   },
   "file_extension": ".py",
   "mimetype": "text/x-python",
   "name": "python",
   "nbconvert_exporter": "python",
   "pygments_lexer": "ipython3",
   "version": "3.7.3"
  }
 },
 "nbformat": 4,
 "nbformat_minor": 2
}
