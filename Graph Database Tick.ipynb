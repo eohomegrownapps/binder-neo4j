{
 "cells": [
  {
   "cell_type": "markdown",
   "metadata": {},
   "source": [
    "## Graph databases: Practical Exercises\n",
    "\n",
    "In Moodle, please submit three files: `exercise3a.cypher`, `exercise3b.cypher`, and `exercise3c.cypher`. If you haven't completed all parts, you can submit blank files. However, we recommend developing and debugging on your own machine before going to Moodle."
   ]
  },
  {
   "cell_type": "code",
   "execution_count": null,
   "metadata": {},
   "outputs": [],
   "source": [
    "# Run first\n",
    "%load_ext cypher_magic"
   ]
  },
  {
   "source": [
    "### Exercise 2.a\n",
    "\n",
    "Write a cypher query to return `name`, `total` where `name` is the name of an actor and `total` is the number of movies they act in."
   ],
   "cell_type": "markdown",
   "metadata": {}
  },
  {
   "cell_type": "code",
   "execution_count": null,
   "metadata": {},
   "outputs": [],
   "source": [
    "%%cypher\n",
    "# YOUR-CODE-GOES-HERE\n",
    "order by total desc, name\n",
    "limit 10;"
   ]
  },
  {
   "source": [
    "### Exercise 2.b\n",
    "\n",
    "Write a cypher query that returns `name`, `roles1`, `roles2` where `name` is the name of an actor, `roles1` are the roles played in the movie _The Matrix Reloaded_, and `roles2` are the roles played in the movie _John Wick_."
   ],
   "cell_type": "markdown",
   "metadata": {}
  },
  {
   "cell_type": "code",
   "execution_count": null,
   "metadata": {},
   "outputs": [],
   "source": [
    "%%cypher\n",
    "# YOUR-CODE-GOES-HERE\n",
    "order by name, roles1, roles2;"
   ]
  },
  {
   "source": [
    "### Exercise 2.c\n",
    "\n",
    "In the graph tutorial we saw the cypher query for computing each bacon number associated with people in our database and the total with that bacon number:"
   ],
   "cell_type": "markdown",
   "metadata": {}
  },
  {
   "source": [
    "%%cypher\n",
    "match path=allshortestpaths(\n",
    "          (m:Person {name : \"Kevin Bacon\"} ) -[:ACTED_IN*]- (n:Person))\n",
    "     where n.person_id <> m.person_id\n",
    "     return length(path)/2 as bacon_number,\n",
    "            count(distinct n.person_id) as total\n",
    "order by bacon_number;"
   ],
   "cell_type": "code",
   "metadata": {},
   "execution_count": null,
   "outputs": []
  },
  {
   "source": [
    "Just as a given movie can be associated with many actors, a given movie can be associated with many producers. Modify the above query to compute the `spielberg_number` that starts with \"Steven Spielberg\" and counts the people using the _coproducer_ relationship rather than a _coactor_ relationship. Don't forget to rename `bacon_number` to `spielberg_number`!"
   ],
   "cell_type": "markdown",
   "metadata": {}
  },
  {
   "cell_type": "code",
   "execution_count": null,
   "metadata": {},
   "outputs": [],
   "source": [
    "%%cypher\n",
    "# YOUR-CODE-GOES-HERE"
   ]
  }
 ],
 "metadata": {
  "kernelspec": {
   "display_name": "Python 3",
   "language": "python",
   "name": "python3"
  },
  "language_info": {
   "codemirror_mode": {
    "name": "ipython",
    "version": 3
   },
   "file_extension": ".py",
   "mimetype": "text/x-python",
   "name": "python",
   "nbconvert_exporter": "python",
   "pygments_lexer": "ipython3",
   "version": "3.7.3"
  }
 },
 "nbformat": 4,
 "nbformat_minor": 2
}