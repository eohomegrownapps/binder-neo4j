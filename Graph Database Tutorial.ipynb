{
 "cells": [
  {
   "cell_type": "markdown",
   "metadata": {},
   "source": [
    "## Graph Database Tutorial\n",
    "\n",
    "A place to work through the exercises in https://www.cl.cam.ac.uk/teaching/2021/Databases/graph-tutorial.html\n",
    "\n",
    "For more information on `cypher_magic`, see https://github.com/innovationOUtside/cypher_magic"
   ]
  },
  {
   "cell_type": "code",
   "execution_count": null,
   "metadata": {},
   "outputs": [],
   "source": [
    "# Run first\n",
    "%load_ext cypher_magic"
   ]
  },
  {
   "source": [
    "Run queries as follows (make sure the first line of your query contains `%%cypher`):"
   ],
   "cell_type": "markdown",
   "metadata": {}
  },
  {
   "cell_type": "code",
   "execution_count": null,
   "metadata": {},
   "outputs": [],
   "source": [
    "%%cypher\n",
    "match (n)\n",
    "return labels(n) as labels, keys(n) as properties, count(*) as total\n",
    "order by total desc;"
   ]
  }
 ],
 "metadata": {
  "kernelspec": {
   "display_name": "Python 3",
   "language": "python",
   "name": "python3"
  },
  "language_info": {
   "codemirror_mode": {
    "name": "ipython",
    "version": 3
   },
   "file_extension": ".py",
   "mimetype": "text/x-python",
   "name": "python",
   "nbconvert_exporter": "python",
   "pygments_lexer": "ipython3",
   "version": "3.7.3"
  }
 },
 "nbformat": 4,
 "nbformat_minor": 2
}