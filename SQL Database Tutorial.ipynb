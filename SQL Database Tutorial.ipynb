{
 "cells": [
  {
   "cell_type": "code",
   "execution_count": 1,
   "id": "lyric-diagnosis",
   "metadata": {},
   "outputs": [],
   "source": [
    "import hsqldb\n",
    "db = hsqldb.HSQLDB()"
   ]
  },
  {
   "cell_type": "code",
   "execution_count": 2,
   "id": "expanded-sector",
   "metadata": {},
   "outputs": [
    {
     "name": "stdout",
     "output_type": "stream",
     "text": [
      "YEAR\n",
      "----\n",
      "2000\n",
      "2001\n",
      "2002\n",
      "2003\n",
      "2004\n",
      "2005\n",
      "2006\n",
      "2007\n",
      "2008\n",
      "2009\n",
      "2010\n",
      "2011\n",
      "2012\n",
      "2013\n",
      "2014\n",
      "2015\n",
      "2016\n",
      "2017\n",
      "2018\n",
      "2019\n",
      "2020\n"
     ]
    }
   ],
   "source": [
    "db.query(\"select distinct year from movies\")"
   ]
  },
  {
   "cell_type": "code",
   "execution_count": 3,
   "id": "polar-registrar",
   "metadata": {},
   "outputs": [
    {
     "name": "stdout",
     "output_type": "stream",
     "text": [
      "NAME         TITLE                                 ROLE            \n",
      "------------ ------------------------------------- ----------------\n",
      "Noomi Rapace The Girl Who Kicked the Hornet's Nest Lisbeth Salander\n",
      "Noomi Rapace The Girl Who Played with Fire         Lisbeth Salander\n",
      "Noomi Rapace The Girl with the Dragon Tattoo       Lisbeth Salander\n"
     ]
    }
   ],
   "source": [
    "db.query(\"\"\"\n",
    "select distinct p.name, m1.title, pr1.role\n",
    "from people as p\n",
    "join plays_role as pr1 on p.person_id = pr1.person_id\n",
    "join plays_role as pr2 on \n",
    "    (p.person_id = pr2.person_id \n",
    "    and pr1.movie_id <> pr2.movie_id\n",
    "    and pr1.role = pr2.role)\n",
    "join movies as m1 on pr1.movie_id = m1.movie_id\n",
    "join movies as m2 on pr2.movie_id = m2.movie_id\n",
    "where p.name = 'Noomi Rapace'\n",
    "\"\"\")"
   ]
  },
  {
   "cell_type": "code",
   "execution_count": null,
   "id": "occasional-guarantee",
   "metadata": {},
   "outputs": [],
   "source": []
  }
 ],
 "metadata": {
  "kernelspec": {
   "display_name": "Python 3",
   "language": "python",
   "name": "python3"
  },
  "language_info": {
   "codemirror_mode": {
    "name": "ipython",
    "version": 3
   },
   "file_extension": ".py",
   "mimetype": "text/x-python",
   "name": "python",
   "nbconvert_exporter": "python",
   "pygments_lexer": "ipython3",
   "version": "3.9.2"
  }
 },
 "nbformat": 4,
 "nbformat_minor": 5
}
