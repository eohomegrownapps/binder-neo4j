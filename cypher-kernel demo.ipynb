{
 "cells": [
  {
   "cell_type": "markdown",
   "metadata": {},
   "source": [
    "# neo4j Kernel Demo\n",
    "\n",
    "\n",
    "Minimal examples of running queries using the [`cypher_kernel`](https://github.com/HelgeCPH/cypher_kernel).\n",
    "\n",
    "*Config details are in `~/.jupyter/cypher_config.yml`.*\n",
    "\n",
    "*Test records are created in `neo4j-demo.py`.*"
   ]
  },
  {
   "cell_type": "code",
   "execution_count": 24,
   "metadata": {},
   "outputs": [
    {
     "data": {
      "text/plain": [
       "+---------+\n",
       "| name    |\n",
       "+---------+\n",
       "| \"Alice\" |\n",
       "| \"Bob\"   |\n",
       "| \"Carol\" |\n",
       "+---------+\n",
       "\n",
       "3 rows available after 2 ms, consumed after another 1 ms"
      ]
     },
     "execution_count": 24,
     "metadata": {},
     "output_type": "execute_result"
    }
   ],
   "source": [
    "MATCH (p:Person) RETURN p.name AS name"
   ]
  },
  {
   "cell_type": "code",
   "execution_count": 25,
   "metadata": {},
   "outputs": [
    {
     "data": {
      "application/javascript": [
       "require([\"https://cdnjs.cloudflare.com/ajax/libs/vis/4.21.0/vis.min.js\"], function(vis) {\n",
       "  var nodes = new vis.DataSet([\n",
       "    { id: 1, label: \"Person\", title: \"{name:Bob,<br>_id:1}\", color: 'rgba(240,5,22,0.5)'},\n",
       "    { id: 0, label: \"Person\", title: \"{name:Alice,<br>_id:0}\", color: 'rgba(240,5,22,0.5)'},\n",
       "    \n",
       "  ]);\n",
       "\n",
       "  // create an array with edges\n",
       "  var edges = new vis.DataSet([\n",
       "    { from: 0,to: 1, arrows:'to', title: \"{_id:0,}\" },\n",
       "    \n",
       "  ]);\n",
       "\n",
       "  // create a network\n",
       "  var container = document.getElementById('2582b7eb-79f7-47aa-bc72-4d34e82c41b5');\n",
       "  var data = {\n",
       "    nodes: nodes,\n",
       "    edges: edges\n",
       "  };\n",
       "\n",
       "  var options = {\n",
       "    edges: {\n",
       "      arrows: {\n",
       "        to: {\n",
       "          scaleFactor: 0.5\n",
       "        }\n",
       "      }\n",
       "    },\n",
       "    width: '100%',\n",
       "    height: '500px',\n",
       "    interaction: {hover: true}\n",
       "  };\n",
       "\n",
       "  var network = new vis.Network(container, data, options);});"
      ]
     },
     "metadata": {},
     "output_type": "display_data"
    },
    {
     "data": {
      "text/html": [
       "<link href=\"https://cdnjs.cloudflare.com/ajax/libs/vis/4.21.0/vis.min.css\" rel=\"stylesheet\" type=\"text/css\">\n",
       "                <div id=\"2582b7eb-79f7-47aa-bc72-4d34e82c41b5\"></div>\n",
       "                "
      ]
     },
     "metadata": {},
     "output_type": "display_data"
    },
    {
     "data": {
      "text/plain": [
       "+-------------------------------------------------------------------------------------------------+\n",
       "| alice                              | knows                   | people                           |\n",
       "+-------------------------------------------------------------------------------------------------+\n",
       "| (:Person {name: \"Alice\", _id_: 0}) | [:KNOWS {_id_: 0}[0>1]] | (:Person {name: \"Bob\", _id_: 1}) |\n",
       "+-------------------------------------------------------------------------------------------------+\n",
       "\n",
       "1 row available after 66 ms, consumed after another 2 ms"
      ]
     },
     "execution_count": 25,
     "metadata": {},
     "output_type": "execute_result"
    }
   ],
   "source": [
    "MATCH (alice:Person {name: \"Alice\"})-[knows:KNOWS]->(people) \n",
    "RETURN alice,knows,people"
   ]
  },
  {
   "cell_type": "code",
   "execution_count": null,
   "metadata": {},
   "outputs": [],
   "source": []
  }
 ],
 "metadata": {
  "kernelspec": {
   "display_name": "Cypher",
   "language": "cypher",
   "name": "cypher"
  },
  "language_info": {
   "file_extension": ".cql",
   "mimetype": "text/cypher",
   "name": "cypher"
  }
 },
 "nbformat": 4,
 "nbformat_minor": 2
}
