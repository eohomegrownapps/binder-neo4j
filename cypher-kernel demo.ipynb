{
 "cells": [
  {
   "cell_type": "markdown",
   "metadata": {},
   "source": [
    "# neo4j Kernel Demo\n",
    "\n",
    "\n",
    "Minimal examples of running queries using the [`cypher_kernel`](https://github.com/HelgeCPH/cypher_kernel).\n",
    "\n",
    "*Config details are in `~/.jupyter/cypher_config.yml`.*\n",
    "\n",
    "*Initial test records are created in `neo4j-demo.py`.*"
   ]
  },
  {
   "cell_type": "code",
   "execution_count": 24,
   "metadata": {},
   "outputs": [
    {
     "data": {
      "text/plain": [
       "+---------+\n",
       "| name    |\n",
       "+---------+\n",
       "| \"Alice\" |\n",
       "| \"Bob\"   |\n",
       "| \"Carol\" |\n",
       "+---------+\n",
       "\n",
       "3 rows available after 2 ms, consumed after another 1 ms"
      ]
     },
     "execution_count": 24,
     "metadata": {},
     "output_type": "execute_result"
    }
   ],
   "source": [
    "MATCH (p:Person) RETURN p.name AS name"
   ]
  },
  {
   "cell_type": "code",
   "execution_count": 25,
   "metadata": {},
   "outputs": [
    {
     "data": {
      "application/javascript": [
       "require([\"https://cdnjs.cloudflare.com/ajax/libs/vis/4.21.0/vis.min.js\"], function(vis) {\n",
       "  var nodes = new vis.DataSet([\n",
       "    { id: 1, label: \"Person\", title: \"{name:Bob,<br>_id:1}\", color: 'rgba(240,5,22,0.5)'},\n",
       "    { id: 0, label: \"Person\", title: \"{name:Alice,<br>_id:0}\", color: 'rgba(240,5,22,0.5)'},\n",
       "    \n",
       "  ]);\n",
       "\n",
       "  // create an array with edges\n",
       "  var edges = new vis.DataSet([\n",
       "    { from: 0,to: 1, arrows:'to', title: \"{_id:0,}\" },\n",
       "    \n",
       "  ]);\n",
       "\n",
       "  // create a network\n",
       "  var container = document.getElementById('2582b7eb-79f7-47aa-bc72-4d34e82c41b5');\n",
       "  var data = {\n",
       "    nodes: nodes,\n",
       "    edges: edges\n",
       "  };\n",
       "\n",
       "  var options = {\n",
       "    edges: {\n",
       "      arrows: {\n",
       "        to: {\n",
       "          scaleFactor: 0.5\n",
       "        }\n",
       "      }\n",
       "    },\n",
       "    width: '100%',\n",
       "    height: '500px',\n",
       "    interaction: {hover: true}\n",
       "  };\n",
       "\n",
       "  var network = new vis.Network(container, data, options);});"
      ]
     },
     "metadata": {},
     "output_type": "display_data"
    },
    {
     "data": {
      "text/html": [
       "<link href=\"https://cdnjs.cloudflare.com/ajax/libs/vis/4.21.0/vis.min.css\" rel=\"stylesheet\" type=\"text/css\">\n",
       "                <div id=\"2582b7eb-79f7-47aa-bc72-4d34e82c41b5\"></div>\n",
       "                "
      ]
     },
     "metadata": {},
     "output_type": "display_data"
    },
    {
     "data": {
      "text/plain": [
       "+-------------------------------------------------------------------------------------------------+\n",
       "| alice                              | knows                   | people                           |\n",
       "+-------------------------------------------------------------------------------------------------+\n",
       "| (:Person {name: \"Alice\", _id_: 0}) | [:KNOWS {_id_: 0}[0>1]] | (:Person {name: \"Bob\", _id_: 1}) |\n",
       "+-------------------------------------------------------------------------------------------------+\n",
       "\n",
       "1 row available after 66 ms, consumed after another 2 ms"
      ]
     },
     "execution_count": 25,
     "metadata": {},
     "output_type": "execute_result"
    }
   ],
   "source": [
    "MATCH (alice:Person {name: \"Alice\"})-[knows:KNOWS]->(people) \n",
    "RETURN alice,knows,people"
   ]
  },
  {
   "cell_type": "markdown",
   "metadata": {},
   "source": [
    "## Adding Items\n",
    "\n",
    "Can we also add items to the database?"
   ]
  },
  {
   "cell_type": "code",
   "execution_count": 1,
   "metadata": {},
   "outputs": [
    {
     "data": {
      "application/javascript": [
       "require([\"https://cdnjs.cloudflare.com/ajax/libs/vis/4.21.0/vis.min.js\"], function(vis) {\n",
       "  var nodes = new vis.DataSet([\n",
       "    { id: 2, label: \"Wheel\", title: \"{spokes:32,<br>_id:2}\", color: 'rgba(7,247,179,0.5)'},\n",
       "    { id: 1, label: \"Wheel\", title: \"{spokes:3,<br>_id:1}\", color: 'rgba(7,247,179,0.5)'},\n",
       "    { id: 0, label: \"Bike\", title: \"{weight:10,<br>_id:0}\", color: 'rgba(201,113,143,0.5)'},\n",
       "    \n",
       "  ]);\n",
       "\n",
       "  // create an array with edges\n",
       "  var edges = new vis.DataSet([\n",
       "    { from: 0,to: 1, arrows:'to', title: \"{position:1, _id:0,}\" },\n",
       "    { from: 0,to: 2, arrows:'to', title: \"{position:2, _id:1,}\" },\n",
       "    \n",
       "  ]);\n",
       "\n",
       "  // create a network\n",
       "  var container = document.getElementById('62129f6e-2788-4c9f-b2af-3acdce990b8f');\n",
       "  var data = {\n",
       "    nodes: nodes,\n",
       "    edges: edges\n",
       "  };\n",
       "\n",
       "  var options = {\n",
       "    edges: {\n",
       "      arrows: {\n",
       "        to: {\n",
       "          scaleFactor: 0.5\n",
       "        }\n",
       "      }\n",
       "    },\n",
       "    width: '100%',\n",
       "    height: '500px',\n",
       "    interaction: {hover: true}\n",
       "  };\n",
       "\n",
       "  var network = new vis.Network(container, data, options);});"
      ]
     },
     "metadata": {},
     "output_type": "display_data"
    },
    {
     "data": {
      "text/html": [
       "<link href=\"https://cdnjs.cloudflare.com/ajax/libs/vis/4.21.0/vis.min.css\" rel=\"stylesheet\" type=\"text/css\">\n",
       "                <div id=\"62129f6e-2788-4c9f-b2af-3acdce990b8f\"></div>\n",
       "                "
      ]
     },
     "metadata": {},
     "output_type": "display_data"
    },
    {
     "data": {
      "text/plain": [
       "+------------------------------------------------------------------------------------------------------------------------------------------------------------------------------------------------------------------------------------+\n",
       "| bike                          | p1                                                                                              | p2                                                                                               |\n",
       "+------------------------------------------------------------------------------------------------------------------------------------------------------------------------------------------------------------------------------------+\n",
       "| (:Bike {weight: 10, _id_: 0}) | (:Bike {weight: 10, _id_: 0})-[:HAS {_id_: 0, position: 1}[0>1]]->(:Wheel {spokes: 3, _id_: 1}) | (:Bike {weight: 10, _id_: 0})-[:HAS {_id_: 1, position: 2}[0>2]]->(:Wheel {spokes: 32, _id_: 2}) |\n",
       "+------------------------------------------------------------------------------------------------------------------------------------------------------------------------------------------------------------------------------------+\n",
       "\n",
       "1 row available after 461 ms, consumed after another 93 ms\n",
       "Added 3 nodes, Created 2 relationships, Set 5 properties, Added 3 labels"
      ]
     },
     "execution_count": 1,
     "metadata": {},
     "output_type": "execute_result"
    }
   ],
   "source": [
    "CREATE ( bike:Bike { weight: 10 } ) \n",
    "CREATE ( frontWheel:Wheel { spokes: 3 } ) \n",
    "CREATE ( backWheel:Wheel { spokes: 32 } ) \n",
    "CREATE p1 = (bike)-[:HAS { position: 1 } ]->(frontWheel) \n",
    "CREATE p2 = (bike)-[:HAS { position: 2 } ]->(backWheel) \n",
    "RETURN bike, p1, p2"
   ]
  },
  {
   "cell_type": "markdown",
   "metadata": {},
   "source": [
    "## Clean the DB\n",
    "\n",
    "Clear all the records from the DB..."
   ]
  },
  {
   "cell_type": "code",
   "execution_count": 7,
   "metadata": {},
   "outputs": [
    {
     "data": {
      "text/plain": []
     },
     "execution_count": 7,
     "metadata": {},
     "output_type": "execute_result"
    }
   ],
   "source": [
    "MATCH (n) DETACH DELETE n\n",
    "MATCH (b)-[h:HAS]-(w) RETURN b, h, w"
   ]
  },
  {
   "cell_type": "code",
   "execution_count": 6,
   "metadata": {},
   "outputs": [
    {
     "data": {
      "text/plain": []
     },
     "execution_count": 6,
     "metadata": {},
     "output_type": "execute_result"
    }
   ],
   "source": []
  },
  {
   "cell_type": "code",
   "execution_count": null,
   "metadata": {},
   "outputs": [],
   "source": []
  }
 ],
 "metadata": {
  "kernelspec": {
   "display_name": "Cypher",
   "language": "cypher",
   "name": "cypher"
  },
  "language_info": {
   "file_extension": ".cql",
   "mimetype": "text/cypher",
   "name": "cypher"
  }
 },
 "nbformat": 4,
 "nbformat_minor": 2
}
